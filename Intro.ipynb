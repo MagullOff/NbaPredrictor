{
 "cells": [
  {
   "cell_type": "markdown",
   "id": "89001fa9",
   "metadata": {},
   "source": [
    "### Import basic data about games"
   ]
  },
  {
   "cell_type": "code",
   "execution_count": 198,
   "id": "f44f8fe5",
   "metadata": {},
   "outputs": [],
   "source": [
    "import tensorflow as tf\n",
    "import numpy as np\n",
    "import pandas as pd\n",
    "\n",
    "CSV_COLUMN_NAMES = ['team_abbreviation_home', 'team_abbreviation_away', 'wl_home']\n",
    "CSV_RESULTS = ['L', 'W']\n",
    "data_path = 'game.csv'\n",
    "\n",
    "data = pd.read_csv(data_path, usecols=CSV_COLUMN_NAMES, header=0)\n",
    "data.dropna(inplace=True)\n",
    "data.loc[data['wl_home'] == 'L', 'wl_home'] = 0\n",
    "data.loc[data['wl_home'] == 'W', 'wl_home'] = 1\n",
    "data = data.astype({'team_abbreviation_home' : 'string'})\n",
    "data = data.astype({'team_abbreviation_away' : 'string'})\n",
    "data = data.astype({'wl_home' : 'int32'})"
   ]
  },
  {
   "cell_type": "code",
   "execution_count": 199,
   "id": "5fabf294",
   "metadata": {},
   "outputs": [
    {
     "data": {
      "text/html": [
       "<div>\n",
       "<style scoped>\n",
       "    .dataframe tbody tr th:only-of-type {\n",
       "        vertical-align: middle;\n",
       "    }\n",
       "\n",
       "    .dataframe tbody tr th {\n",
       "        vertical-align: top;\n",
       "    }\n",
       "\n",
       "    .dataframe thead th {\n",
       "        text-align: right;\n",
       "    }\n",
       "</style>\n",
       "<table border=\"1\" class=\"dataframe\">\n",
       "  <thead>\n",
       "    <tr style=\"text-align: right;\">\n",
       "      <th></th>\n",
       "      <th>team_abbreviation_home</th>\n",
       "      <th>wl_home</th>\n",
       "      <th>team_abbreviation_away</th>\n",
       "    </tr>\n",
       "  </thead>\n",
       "  <tbody>\n",
       "    <tr>\n",
       "      <th>0</th>\n",
       "      <td>HUS</td>\n",
       "      <td>0</td>\n",
       "      <td>NYK</td>\n",
       "    </tr>\n",
       "    <tr>\n",
       "      <th>1</th>\n",
       "      <td>BOM</td>\n",
       "      <td>1</td>\n",
       "      <td>PIT</td>\n",
       "    </tr>\n",
       "    <tr>\n",
       "      <th>2</th>\n",
       "      <td>PRO</td>\n",
       "      <td>1</td>\n",
       "      <td>BOS</td>\n",
       "    </tr>\n",
       "    <tr>\n",
       "      <th>3</th>\n",
       "      <td>CHS</td>\n",
       "      <td>1</td>\n",
       "      <td>NYK</td>\n",
       "    </tr>\n",
       "    <tr>\n",
       "      <th>4</th>\n",
       "      <td>DEF</td>\n",
       "      <td>0</td>\n",
       "      <td>WAS</td>\n",
       "    </tr>\n",
       "  </tbody>\n",
       "</table>\n",
       "</div>"
      ],
      "text/plain": [
       "  team_abbreviation_home  wl_home team_abbreviation_away\n",
       "0                    HUS        0                    NYK\n",
       "1                    BOM        1                    PIT\n",
       "2                    PRO        1                    BOS\n",
       "3                    CHS        1                    NYK\n",
       "4                    DEF        0                    WAS"
      ]
     },
     "execution_count": 199,
     "metadata": {},
     "output_type": "execute_result"
    }
   ],
   "source": [
    "data.head()"
   ]
  },
  {
   "cell_type": "markdown",
   "id": "8f0b7c8d",
   "metadata": {},
   "source": [
    "### Divide data into training and testing sets"
   ]
  },
  {
   "cell_type": "code",
   "execution_count": 200,
   "id": "d8ed7de4",
   "metadata": {},
   "outputs": [
    {
     "name": "stdout",
     "output_type": "stream",
     "text": [
      "Training data size: 49888\n",
      "Testing data size: 12472\n"
     ]
    }
   ],
   "source": [
    "train_data = pd.DataFrame(data.sample(frac=0.8, random_state=25))\n",
    "test_data = pd.DataFrame(data.drop(train_data.index))\n",
    "\n",
    "print(f'Training data size: {train_data.shape[0]}')\n",
    "print(f'Testing data size: {test_data.shape[0]}')"
   ]
  },
  {
   "cell_type": "code",
   "execution_count": 201,
   "id": "29e853e2",
   "metadata": {},
   "outputs": [],
   "source": [
    "train_y = train_data.pop('wl_home')\n",
    "test_y = test_data.pop('wl_home')"
   ]
  },
  {
   "cell_type": "markdown",
   "id": "bce3558d",
   "metadata": {},
   "source": [
    "### Define input function"
   ]
  },
  {
   "cell_type": "code",
   "execution_count": 202,
   "id": "2bdfd97a",
   "metadata": {},
   "outputs": [],
   "source": [
    "def input_fn(features, labels, training=True, batch_size=256):\n",
    "    dataset = tf.data.Dataset.from_tensor_slices((dict(features), labels))\n",
    "    \n",
    "    if training:\n",
    "        dataset = dataset.shuffle(1000).repeat()\n",
    "        \n",
    "    return dataset.batch(batch_size)"
   ]
  },
  {
   "cell_type": "code",
   "execution_count": 203,
   "id": "5e17f0d6",
   "metadata": {},
   "outputs": [
    {
     "name": "stdout",
     "output_type": "stream",
     "text": [
      "[IndicatorColumn(categorical_column=VocabularyListCategoricalColumn(key='team_abbreviation_home', vocabulary_list=('WAS', 'PHL', 'MIL', 'NOH', 'GOS', 'SAC', 'CLE', 'HOU', 'PHX', 'ATL', 'DEN', 'INO', 'SEA', 'POR', 'MEM', 'CHH', 'FTW', 'BOS', 'PRO', 'CHI', 'LAC', 'NOK', 'DAL', 'NYN', 'LAL', 'NYK', 'SAN', 'DET', 'MIA', 'NOP', 'CHA', 'BUF', 'IND', 'MIN', 'PHW', 'NJN', 'BAL', 'ORL', 'UTH', 'SAS', 'SDC', 'CIN', 'PHI', 'UTA', 'MNL', 'SDR', 'TOR', 'JET', 'KCK', 'SYR', 'GSW', 'STL', 'MIH', 'VAN', 'ROC', 'BLT', 'CHS', 'BKN', 'SHE', 'OKC', 'CAP', 'SFW', 'AND', 'CHZ', 'HUS', 'NOJ', 'BOM', 'CHP', 'WAT', 'CLR', 'DEF', 'TCB', 'PIT', 'DN'), dtype=tf.string, default_value=-1, num_oov_buckets=0)), IndicatorColumn(categorical_column=VocabularyListCategoricalColumn(key='team_abbreviation_away', vocabulary_list=('BOS', 'MIL', 'ATL', 'NJN', 'SDC', 'HOU', 'WAS', 'MEM', 'POR', 'CHI', 'PHW', 'MIA', 'IND', 'PHX', 'SYR', 'LAL', 'SDR', 'CHS', 'BUF', 'OKC', 'MIN', 'DEN', 'LAC', 'CHA', 'DET', 'ROC', 'STL', 'GSW', 'BLT', 'UTH', 'ORL', 'BKN', 'TOR', 'CLE', 'NYK', 'CHH', 'SEA', 'MNL', 'NOK', 'SAS', 'KCK', 'FTW', 'NOP', 'PHL', 'VAN', 'SAC', 'GOS', 'SAN', 'PRO', 'DAL', 'BOM', 'NOH', 'UTA', 'PHI', 'CIN', 'BAL', 'NOJ', 'CHZ', 'TCB', 'SFW', 'INO', 'PIT', 'CLR', 'NYN', 'AND', 'CHP', 'MIH', 'DEF', 'JET', 'HUS', 'CAP', 'SHE', 'WAT', 'DN'), dtype=tf.string, default_value=-1, num_oov_buckets=0))]\n",
      "      team_abbreviation_home team_abbreviation_away\n",
      "50625                    WAS                    BOS\n",
      "26409                    PHL                    MIL\n",
      "23238                    MIL                    ATL\n",
      "46539                    NOH                    NJN\n",
      "16285                    GOS                    SDC\n",
      "...                      ...                    ...\n",
      "25347                    DEN                    LAL\n",
      "33791                    SAC                    SAS\n",
      "1808                     SYR                    MNL\n",
      "15315                    NYK                    GOS\n",
      "61142                    SAS                    MIN\n",
      "\n",
      "[49888 rows x 2 columns]\n",
      "50625    0\n",
      "26409    1\n",
      "23238    1\n",
      "46539    1\n",
      "16285    1\n",
      "        ..\n",
      "25347    0\n",
      "33791    0\n",
      "1808     1\n",
      "15315    0\n",
      "61142    0\n",
      "Name: wl_home, Length: 49888, dtype: int32\n"
     ]
    }
   ],
   "source": [
    "my_feature_columns = []\n",
    "for key in train_data.keys():\n",
    "    vocabulary = train_data[key].unique()\n",
    "    my_feature_columns.append(tf.feature_column.categorical_column_with_vocabulary_list(key, vocabulary))\n",
    "\n",
    "my_feature_columns = [tf.feature_column.indicator_column(c) for c in my_feature_columns]\n",
    "    \n",
    "print(my_feature_columns)\n",
    "print(train_data)\n",
    "print(train_y)"
   ]
  },
  {
   "cell_type": "markdown",
   "id": "b1a478dc",
   "metadata": {},
   "source": [
    "### Choose a model and train it"
   ]
  },
  {
   "cell_type": "code",
   "execution_count": 205,
   "id": "3684ce62",
   "metadata": {},
   "outputs": [
    {
     "name": "stdout",
     "output_type": "stream",
     "text": [
      "INFO:tensorflow:Calling model_fn.\n",
      "INFO:tensorflow:Done calling model_fn.\n",
      "INFO:tensorflow:Create CheckpointSaverHook.\n",
      "INFO:tensorflow:Graph was finalized.\n",
      "INFO:tensorflow:Restoring parameters from C:\\Users\\jakub\\AppData\\Local\\Temp\\tmpildbf4ad\\model.ckpt-5000\n",
      "WARNING:tensorflow:From C:\\Users\\jakub\\AppData\\Local\\Programs\\Python\\Python310\\lib\\site-packages\\tensorflow\\python\\training\\saver.py:1173: get_checkpoint_mtimes (from tensorflow.python.checkpoint.checkpoint_management) is deprecated and will be removed in a future version.\n",
      "Instructions for updating:\n",
      "Use standard file utilities to get mtimes.\n",
      "INFO:tensorflow:Running local_init_op.\n",
      "INFO:tensorflow:Done running local_init_op.\n",
      "INFO:tensorflow:Calling checkpoint listeners before saving checkpoint 5000...\n",
      "INFO:tensorflow:Saving checkpoints for 5000 into C:\\Users\\jakub\\AppData\\Local\\Temp\\tmpildbf4ad\\model.ckpt.\n",
      "INFO:tensorflow:Calling checkpoint listeners after saving checkpoint 5000...\n",
      "INFO:tensorflow:loss = 0.783876, step = 5000\n",
      "INFO:tensorflow:global_step/sec: 794.043\n",
      "INFO:tensorflow:loss = 0.7803256, step = 5100 (0.127 sec)\n",
      "INFO:tensorflow:global_step/sec: 1635.46\n",
      "INFO:tensorflow:loss = 0.8016169, step = 5200 (0.060 sec)\n",
      "INFO:tensorflow:global_step/sec: 1575.86\n",
      "INFO:tensorflow:loss = 0.7897626, step = 5300 (0.064 sec)\n",
      "INFO:tensorflow:global_step/sec: 1529.03\n",
      "INFO:tensorflow:loss = 0.7812364, step = 5400 (0.065 sec)\n",
      "INFO:tensorflow:global_step/sec: 1374.92\n",
      "INFO:tensorflow:loss = 0.7777536, step = 5500 (0.073 sec)\n",
      "INFO:tensorflow:global_step/sec: 1194.81\n",
      "INFO:tensorflow:loss = 0.76442707, step = 5600 (0.084 sec)\n",
      "INFO:tensorflow:global_step/sec: 1557.22\n",
      "INFO:tensorflow:loss = 0.7781245, step = 5700 (0.064 sec)\n",
      "INFO:tensorflow:global_step/sec: 1721.08\n",
      "INFO:tensorflow:loss = 0.77278304, step = 5800 (0.058 sec)\n",
      "INFO:tensorflow:global_step/sec: 1785.69\n",
      "INFO:tensorflow:loss = 0.7601538, step = 5900 (0.056 sec)\n",
      "INFO:tensorflow:global_step/sec: 1666.5\n",
      "INFO:tensorflow:loss = 0.7691275, step = 6000 (0.060 sec)\n",
      "INFO:tensorflow:global_step/sec: 1341.2\n",
      "INFO:tensorflow:loss = 0.7538914, step = 6100 (0.075 sec)\n",
      "INFO:tensorflow:global_step/sec: 1362.03\n",
      "INFO:tensorflow:loss = 0.7591038, step = 6200 (0.073 sec)\n",
      "INFO:tensorflow:global_step/sec: 1731.54\n",
      "INFO:tensorflow:loss = 0.76362586, step = 6300 (0.058 sec)\n",
      "INFO:tensorflow:global_step/sec: 1744.75\n",
      "INFO:tensorflow:loss = 0.7552923, step = 6400 (0.057 sec)\n",
      "INFO:tensorflow:global_step/sec: 1456\n",
      "INFO:tensorflow:loss = 0.75866663, step = 6500 (0.069 sec)\n",
      "INFO:tensorflow:global_step/sec: 1528.4\n",
      "INFO:tensorflow:loss = 0.7503395, step = 6600 (0.065 sec)\n",
      "INFO:tensorflow:global_step/sec: 1469.65\n",
      "INFO:tensorflow:loss = 0.76439476, step = 6700 (0.068 sec)\n",
      "INFO:tensorflow:global_step/sec: 1493.28\n",
      "INFO:tensorflow:loss = 0.7182093, step = 6800 (0.067 sec)\n",
      "INFO:tensorflow:global_step/sec: 1259.95\n",
      "INFO:tensorflow:loss = 0.7421171, step = 6900 (0.080 sec)\n",
      "INFO:tensorflow:global_step/sec: 1235.87\n",
      "INFO:tensorflow:loss = 0.7494631, step = 7000 (0.081 sec)\n",
      "INFO:tensorflow:global_step/sec: 1268.46\n",
      "INFO:tensorflow:loss = 0.73944134, step = 7100 (0.078 sec)\n",
      "INFO:tensorflow:global_step/sec: 1654.81\n",
      "INFO:tensorflow:loss = 0.7409549, step = 7200 (0.060 sec)\n",
      "INFO:tensorflow:global_step/sec: 1652.52\n",
      "INFO:tensorflow:loss = 0.7223476, step = 7300 (0.061 sec)\n",
      "INFO:tensorflow:global_step/sec: 1818.19\n",
      "INFO:tensorflow:loss = 0.7431696, step = 7400 (0.056 sec)\n",
      "INFO:tensorflow:global_step/sec: 1747.08\n",
      "INFO:tensorflow:loss = 0.750888, step = 7500 (0.056 sec)\n",
      "INFO:tensorflow:global_step/sec: 1690.07\n",
      "INFO:tensorflow:loss = 0.7215951, step = 7600 (0.059 sec)\n",
      "INFO:tensorflow:global_step/sec: 1801.42\n",
      "INFO:tensorflow:loss = 0.7483913, step = 7700 (0.056 sec)\n",
      "INFO:tensorflow:global_step/sec: 1611.86\n",
      "INFO:tensorflow:loss = 0.70906055, step = 7800 (0.062 sec)\n",
      "INFO:tensorflow:global_step/sec: 1562.54\n",
      "INFO:tensorflow:loss = 0.726062, step = 7900 (0.064 sec)\n",
      "INFO:tensorflow:global_step/sec: 1426.28\n",
      "INFO:tensorflow:loss = 0.7117889, step = 8000 (0.070 sec)\n",
      "INFO:tensorflow:global_step/sec: 1452.41\n",
      "INFO:tensorflow:loss = 0.7200959, step = 8100 (0.069 sec)\n",
      "INFO:tensorflow:global_step/sec: 1458.53\n",
      "INFO:tensorflow:loss = 0.72662646, step = 8200 (0.069 sec)\n",
      "INFO:tensorflow:global_step/sec: 1368.17\n",
      "INFO:tensorflow:loss = 0.7300149, step = 8300 (0.074 sec)\n",
      "INFO:tensorflow:global_step/sec: 1439.81\n",
      "INFO:tensorflow:loss = 0.71832156, step = 8400 (0.068 sec)\n",
      "INFO:tensorflow:global_step/sec: 1480.76\n",
      "INFO:tensorflow:loss = 0.71323407, step = 8500 (0.068 sec)\n",
      "INFO:tensorflow:global_step/sec: 1310.33\n",
      "INFO:tensorflow:loss = 0.72149444, step = 8600 (0.077 sec)\n",
      "INFO:tensorflow:global_step/sec: 1327.16\n",
      "INFO:tensorflow:loss = 0.718531, step = 8700 (0.074 sec)\n",
      "INFO:tensorflow:global_step/sec: 1414.61\n",
      "INFO:tensorflow:loss = 0.70646536, step = 8800 (0.071 sec)\n",
      "INFO:tensorflow:global_step/sec: 1611.78\n",
      "INFO:tensorflow:loss = 0.6976356, step = 8900 (0.063 sec)\n",
      "INFO:tensorflow:global_step/sec: 1363.32\n",
      "INFO:tensorflow:loss = 0.7100098, step = 9000 (0.073 sec)\n",
      "INFO:tensorflow:global_step/sec: 1364\n",
      "INFO:tensorflow:loss = 0.7015555, step = 9100 (0.072 sec)\n",
      "INFO:tensorflow:global_step/sec: 1369.73\n",
      "INFO:tensorflow:loss = 0.6941564, step = 9200 (0.073 sec)\n",
      "INFO:tensorflow:global_step/sec: 1379.08\n",
      "INFO:tensorflow:loss = 0.71557236, step = 9300 (0.074 sec)\n",
      "INFO:tensorflow:global_step/sec: 1488.21\n",
      "INFO:tensorflow:loss = 0.7357136, step = 9400 (0.066 sec)\n",
      "INFO:tensorflow:global_step/sec: 1587.16\n",
      "INFO:tensorflow:loss = 0.7032343, step = 9500 (0.063 sec)\n",
      "INFO:tensorflow:global_step/sec: 1682.27\n",
      "INFO:tensorflow:loss = 0.6981671, step = 9600 (0.059 sec)\n",
      "INFO:tensorflow:global_step/sec: 1705.35\n",
      "INFO:tensorflow:loss = 0.71229756, step = 9700 (0.060 sec)\n",
      "INFO:tensorflow:global_step/sec: 1484.43\n",
      "INFO:tensorflow:loss = 0.70219773, step = 9800 (0.066 sec)\n",
      "INFO:tensorflow:global_step/sec: 1530.91\n",
      "INFO:tensorflow:loss = 0.7042862, step = 9900 (0.065 sec)\n",
      "INFO:tensorflow:Calling checkpoint listeners before saving checkpoint 10000...\n",
      "INFO:tensorflow:Saving checkpoints for 10000 into C:\\Users\\jakub\\AppData\\Local\\Temp\\tmpildbf4ad\\model.ckpt.\n",
      "INFO:tensorflow:Calling checkpoint listeners after saving checkpoint 10000...\n",
      "INFO:tensorflow:Loss for final step: 0.6909877.\n"
     ]
    },
    {
     "data": {
      "text/plain": [
       "<tensorflow_estimator.python.estimator.canned.dnn.DNNClassifierV2 at 0x16089ca65f0>"
      ]
     },
     "execution_count": 205,
     "metadata": {},
     "output_type": "execute_result"
    }
   ],
   "source": [
    " classifier = tf.estimator.DNNClassifier(\n",
    "     feature_columns = my_feature_columns,\n",
    "     hidden_units = [30, 10],\n",
    "     n_classes = 3\n",
    " )\n",
    "    \n",
    "classifier.train(\n",
    "    input_fn=lambda: input_fn(train_data, train_y, training=True), \n",
    "    steps=5000)"
   ]
  },
  {
   "cell_type": "code",
   "execution_count": 206,
   "id": "6e474575",
   "metadata": {},
   "outputs": [
    {
     "name": "stdout",
     "output_type": "stream",
     "text": [
      "INFO:tensorflow:Calling model_fn.\n",
      "INFO:tensorflow:Done calling model_fn.\n",
      "INFO:tensorflow:Starting evaluation at 2023-03-22T23:21:11\n",
      "INFO:tensorflow:Graph was finalized.\n",
      "INFO:tensorflow:Restoring parameters from C:\\Users\\jakub\\AppData\\Local\\Temp\\tmpildbf4ad\\model.ckpt-10000\n",
      "INFO:tensorflow:Running local_init_op.\n",
      "INFO:tensorflow:Done running local_init_op.\n",
      "INFO:tensorflow:Inference Time : 0.25804s\n",
      "INFO:tensorflow:Finished evaluation at 2023-03-22-23:21:11\n",
      "INFO:tensorflow:Saving dict for global step 10000: accuracy = 0.6193072, average_loss = 0.7041097, global_step = 10000, loss = 0.70434517\n",
      "INFO:tensorflow:Saving 'checkpoint_path' summary for global step 10000: C:\\Users\\jakub\\AppData\\Local\\Temp\\tmpildbf4ad\\model.ckpt-10000\n",
      "\n",
      "Test set accuracy: 0.619\n",
      "\n"
     ]
    }
   ],
   "source": [
    "eval_result = classifier.evaluate(\n",
    "    input_fn=lambda: input_fn(test_data, test_y, training=False))\n",
    "\n",
    "print('\\nTest set accuracy: {accuracy:0.3f}\\n'.format(**eval_result))"
   ]
  },
  {
   "cell_type": "markdown",
   "id": "a1d22298",
   "metadata": {},
   "source": [
    "### Make a prediction"
   ]
  },
  {
   "cell_type": "code",
   "execution_count": 207,
   "id": "da4630b9",
   "metadata": {},
   "outputs": [
    {
     "name": "stdout",
     "output_type": "stream",
     "text": [
      "Please type numeric values as prompted\n",
      "team_abbreviation_home: WAS\n",
      "team_abbreviation_away: DEN\n",
      "INFO:tensorflow:Calling model_fn.\n",
      "INFO:tensorflow:Done calling model_fn.\n",
      "INFO:tensorflow:Graph was finalized.\n",
      "INFO:tensorflow:Restoring parameters from C:\\Users\\jakub\\AppData\\Local\\Temp\\tmpildbf4ad\\model.ckpt-10000\n",
      "INFO:tensorflow:Running local_init_op.\n",
      "INFO:tensorflow:Done running local_init_op.\n",
      "Prediction is \"W\" (58.8%)\n"
     ]
    }
   ],
   "source": [
    "def input_fn(features, batch_size=256):\n",
    "    return tf.data.Dataset.from_tensor_slices(dict(features)).batch(batch_size)\n",
    "\n",
    "features = ['team_abbreviation_home', 'team_abbreviation_away']\n",
    "valid_list = list(my_feature_columns[0].categorical_column.vocabulary_list)\n",
    "predict = {}\n",
    "\n",
    "print(\"Please type numeric values as prompted\")\n",
    "for feature in features:\n",
    "    valid = False\n",
    "    while not valid:\n",
    "        val = input(feature + \": \")\n",
    "        if val in valid_list: \n",
    "            valid = True\n",
    "            \n",
    "    predict[feature] = [val]\n",
    "\n",
    "predictions = classifier.predict(input_fn=lambda: input_fn(predict))\n",
    "for pred_dict in predictions:\n",
    "    class_id = pred_dict['class_ids'][0]\n",
    "    probability = pred_dict['probabilities'][class_id]\n",
    "    \n",
    "    print('Prediction is \"{}\" ({:.1f}%)'.format(\n",
    "        CSV_RESULTS[class_id], 100 * probability))"
   ]
  }
 ],
 "metadata": {
  "kernelspec": {
   "display_name": "Python 3 (ipykernel)",
   "language": "python",
   "name": "python3"
  },
  "language_info": {
   "codemirror_mode": {
    "name": "ipython",
    "version": 3
   },
   "file_extension": ".py",
   "mimetype": "text/x-python",
   "name": "python",
   "nbconvert_exporter": "python",
   "pygments_lexer": "ipython3",
   "version": "3.10.10"
  }
 },
 "nbformat": 4,
 "nbformat_minor": 5
}
